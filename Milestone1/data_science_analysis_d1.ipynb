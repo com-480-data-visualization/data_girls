{
 "cells": [
  {
   "cell_type": "code",
   "execution_count": 1,
   "metadata": {},
   "outputs": [
    {
     "name": "stderr",
     "output_type": "stream",
     "text": [
      "/Users/zainebtafasca/opt/miniconda3/envs/adaexam/lib/python3.9/site-packages/pandas/core/arrays/masked.py:60: UserWarning: Pandas requires version '1.3.6' or newer of 'bottleneck' (version '1.3.5' currently installed).\n",
      "  from pandas.core import (\n"
     ]
    }
   ],
   "source": [
    "import numpy as np\n",
    "import matplotlib.pyplot as plt\n",
    "import matplotlib.patches as patches\n",
    "import matplotlib.colors as mcolors\n",
    "import pandas as pd\n",
    "import os\n",
    "import sys\n",
    "import argparse\n",
    "import re\n",
    "import seaborn as sns"
   ]
  },
  {
   "cell_type": "markdown",
   "metadata": {},
   "source": [
    "## Getting familiar with the data"
   ]
  },
  {
   "cell_type": "code",
   "execution_count": 2,
   "metadata": {},
   "outputs": [
    {
     "data": {
      "application/vnd.microsoft.datawrangler.viewer.v0+json": {
       "columns": [
        {
         "name": "index",
         "rawType": "int64",
         "type": "integer"
        },
        {
         "name": "enrollee_id",
         "rawType": "int64",
         "type": "integer"
        },
        {
         "name": "city",
         "rawType": "object",
         "type": "string"
        },
        {
         "name": "city_development_index",
         "rawType": "float64",
         "type": "float"
        },
        {
         "name": "gender",
         "rawType": "object",
         "type": "unknown"
        },
        {
         "name": "relevent_experience",
         "rawType": "object",
         "type": "string"
        },
        {
         "name": "enrolled_university",
         "rawType": "object",
         "type": "unknown"
        },
        {
         "name": "education_level",
         "rawType": "object",
         "type": "unknown"
        },
        {
         "name": "major_discipline",
         "rawType": "object",
         "type": "unknown"
        },
        {
         "name": "experience",
         "rawType": "float64",
         "type": "float"
        },
        {
         "name": "company_size",
         "rawType": "object",
         "type": "unknown"
        },
        {
         "name": "company_type",
         "rawType": "object",
         "type": "unknown"
        },
        {
         "name": "training_hours",
         "rawType": "float64",
         "type": "float"
        },
        {
         "name": "target",
         "rawType": "float64",
         "type": "float"
        }
       ],
       "conversionMethod": "pd.DataFrame",
       "ref": "8f406cf5-239c-48e7-b593-e5d3c7922d92",
       "rows": [
        [
         "0",
         "8949",
         "city_103",
         "0.92",
         "Male",
         "Has relevent experience",
         "no_enrollment",
         "Graduate",
         "STEM",
         "20.0",
         null,
         null,
         "36.0",
         "1.0"
        ],
        [
         "1",
         "29725",
         "city_40",
         "0.7759999999999999",
         "Male",
         "No relevent experience",
         "no_enrollment",
         "Graduate",
         "STEM",
         "15.0",
         "50-99",
         "Pvt Ltd",
         "47.0",
         "0.0"
        ],
        [
         "2",
         "11561",
         "city_21",
         "0.624",
         null,
         "No relevent experience",
         "Full time course",
         "Graduate",
         "STEM",
         "5.0",
         null,
         null,
         "83.0",
         "0.0"
        ],
        [
         "3",
         "33241",
         "city_115",
         "0.789",
         null,
         "No relevent experience",
         null,
         "Graduate",
         "Business Degree",
         "0.0",
         null,
         "Pvt Ltd",
         "52.0",
         "1.0"
        ],
        [
         "4",
         "666",
         "city_162",
         "0.767",
         "Male",
         "Has relevent experience",
         "no_enrollment",
         "Masters",
         "STEM",
         "20.0",
         "50-99",
         "Funded Startup",
         "8.0",
         "0.0"
        ],
        [
         "5",
         "21651",
         "city_176",
         "0.764",
         null,
         "Has relevent experience",
         "Part time course",
         "Graduate",
         "STEM",
         "11.0",
         null,
         null,
         "24.0",
         "1.0"
        ],
        [
         "6",
         "28806",
         "city_160",
         "0.92",
         "Male",
         "Has relevent experience",
         "no_enrollment",
         "High School",
         null,
         "5.0",
         "50-99",
         "Funded Startup",
         "24.0",
         "0.0"
        ],
        [
         "7",
         "402",
         "city_46",
         "0.762",
         "Male",
         "Has relevent experience",
         "no_enrollment",
         "Graduate",
         "STEM",
         "13.0",
         "<10",
         "Pvt Ltd",
         "18.0",
         "1.0"
        ],
        [
         "8",
         "27107",
         "city_103",
         "0.92",
         "Male",
         "Has relevent experience",
         "no_enrollment",
         "Graduate",
         "STEM",
         "7.0",
         "50-99",
         "Pvt Ltd",
         "46.0",
         "1.0"
        ],
        [
         "9",
         "699",
         "city_103",
         "0.92",
         null,
         "Has relevent experience",
         "no_enrollment",
         "Graduate",
         "STEM",
         "17.0",
         "10000+",
         "Pvt Ltd",
         "123.0",
         "0.0"
        ],
        [
         "10",
         "29452",
         "city_21",
         "0.624",
         null,
         "No relevent experience",
         "Full time course",
         "High School",
         null,
         "2.0",
         null,
         null,
         "32.0",
         "1.0"
        ],
        [
         "11",
         "23853",
         "city_103",
         "0.92",
         "Male",
         "Has relevent experience",
         "no_enrollment",
         "Graduate",
         "STEM",
         "5.0",
         "5000-9999",
         "Pvt Ltd",
         "108.0",
         "0.0"
        ],
        [
         "12",
         "25619",
         "city_61",
         "0.913",
         "Male",
         "Has relevent experience",
         "no_enrollment",
         "Graduate",
         "STEM",
         "20.0",
         "1000-4999",
         "Pvt Ltd",
         "23.0",
         "0.0"
        ],
        [
         "13",
         "5826",
         "city_21",
         "0.624",
         "Male",
         "No relevent experience",
         null,
         null,
         null,
         "2.0",
         null,
         null,
         "24.0",
         "0.0"
        ],
        [
         "14",
         "8722",
         "city_21",
         "0.624",
         null,
         "No relevent experience",
         "Full time course",
         "High School",
         null,
         "5.0",
         null,
         null,
         "26.0",
         "0.0"
        ],
        [
         "15",
         "6588",
         "city_114",
         "0.926",
         "Male",
         "Has relevent experience",
         "no_enrollment",
         "Graduate",
         "STEM",
         "16.0",
         "10/49",
         "Pvt Ltd",
         "18.0",
         "0.0"
        ],
        [
         "16",
         "4167",
         "city_103",
         "0.92",
         null,
         "Has relevent experience",
         "no_enrollment",
         "Graduate",
         "STEM",
         "1.0",
         "50-99",
         "Pvt Ltd",
         "106.0",
         "0.0"
        ],
        [
         "17",
         "5764",
         "city_21",
         "0.624",
         null,
         "Has relevent experience",
         "no_enrollment",
         "Graduate",
         "STEM",
         "2.0",
         "5000-9999",
         "Pvt Ltd",
         "7.0",
         "0.0"
        ],
        [
         "18",
         "2156",
         "city_21",
         "0.624",
         null,
         "Has relevent experience",
         "no_enrollment",
         "Graduate",
         "STEM",
         "7.0",
         "10000+",
         "Pvt Ltd",
         "23.0",
         "1.0"
        ],
        [
         "19",
         "11399",
         "city_13",
         "0.8270000000000001",
         "Female",
         "Has relevent experience",
         "no_enrollment",
         "Graduate",
         "Arts",
         "4.0",
         null,
         null,
         "132.0",
         "1.0"
        ],
        [
         "20",
         "31972",
         "city_159",
         "0.843",
         "Male",
         "Has relevent experience",
         "no_enrollment",
         "Masters",
         "STEM",
         "11.0",
         "100-500",
         "Pvt Ltd",
         "68.0",
         "0.0"
        ],
        [
         "21",
         "19061",
         "city_114",
         "0.926",
         "Male",
         "Has relevent experience",
         "no_enrollment",
         "Masters",
         "STEM",
         "11.0",
         "100-500",
         "Pvt Ltd",
         "50.0",
         "0.0"
        ],
        [
         "22",
         "6491",
         "city_102",
         "0.804",
         null,
         "Has relevent experience",
         "no_enrollment",
         "Masters",
         "STEM",
         "10.0",
         null,
         null,
         "48.0",
         "0.0"
        ],
        [
         "23",
         "7041",
         "city_40",
         "0.7759999999999999",
         "Male",
         "Has relevent experience",
         "no_enrollment",
         "Graduate",
         "Humanities",
         "0.0",
         "1000-4999",
         "Pvt Ltd",
         "65.0",
         "0.0"
        ],
        [
         "24",
         "22767",
         "city_21",
         null,
         null,
         "Has relevent experience",
         "no_enrollment",
         "Graduate",
         "STEM",
         "5.0",
         "1000-4999",
         "Pvt Ltd",
         "13.0",
         "0.0"
        ],
        [
         "25",
         "14505",
         "city_67",
         "0.855",
         null,
         "No relevent experience",
         "no_enrollment",
         "High School",
         null,
         "4.0",
         null,
         null,
         "22.0",
         "0.0"
        ],
        [
         "26",
         "17139",
         "city_21",
         "0.624",
         null,
         "Has relevent experience",
         "Part time course",
         "Graduate",
         "STEM",
         "14.0",
         "500-999",
         "Pvt Ltd",
         "148.0",
         "1.0"
        ],
        [
         "27",
         "28476",
         "city_103",
         "0.92",
         "Male",
         "Has relevent experience",
         "no_enrollment",
         "Graduate",
         "Arts",
         "5.0",
         null,
         null,
         "72.0",
         "0.0"
        ],
        [
         "28",
         "21538",
         "city_100",
         "0.887",
         "Male",
         "Has relevent experience",
         "no_enrollment",
         "High School",
         null,
         "11.0",
         "<10",
         "Pvt Ltd",
         "8.0",
         "1.0"
        ],
        [
         "29",
         "10408",
         "city_21",
         "0.624",
         "Male",
         "Has relevent experience",
         "no_enrollment",
         "Graduate",
         "STEM",
         "18.0",
         "50-99",
         "Funded Startup",
         "68.0",
         "1.0"
        ],
        [
         "30",
         "14928",
         "city_103",
         "0.92",
         "Male",
         "Has relevent experience",
         "no_enrollment",
         "Graduate",
         "STEM",
         "20.0",
         "100-500",
         "Pvt Ltd",
         "40.0",
         "0.0"
        ],
        [
         "31",
         "22293",
         "city_103",
         "0.92",
         "Male",
         "Has relevent experience",
         "Part time course",
         "Graduate",
         "STEM",
         "19.0",
         "5000-9999",
         "Pvt Ltd",
         "141.0",
         "0.0"
        ],
        [
         "32",
         "4324",
         "city_103",
         "0.92",
         "Female",
         "No relevent experience",
         "Full time course",
         "Graduate",
         "STEM",
         "5.0",
         null,
         null,
         "24.0",
         "0.0"
        ],
        [
         "33",
         "26966",
         "city_160",
         "0.92",
         "Female",
         "Has relevent experience",
         "no_enrollment",
         "Graduate",
         "STEM",
         "20.0",
         "100-500",
         "Pvt Ltd",
         "82.0",
         "0.0"
        ],
        [
         "34",
         "26494",
         "city_16",
         "0.91",
         "Male",
         "Has relevent experience",
         "no_enrollment",
         "Graduate",
         "Business Degree",
         "12.0",
         "5000-9999",
         "Pvt Ltd",
         "145.0",
         "0.0"
        ],
        [
         "35",
         "4866",
         "city_103",
         "0.92",
         "Male",
         "Has relevent experience",
         "no_enrollment",
         "Graduate",
         "STEM",
         "10.0",
         "10/49",
         "Early Stage Startup",
         null,
         "0.0"
        ],
        [
         "36",
         "12726",
         "city_114",
         "0.926",
         "Male",
         "No relevent experience",
         "Part time course",
         "High School",
         null,
         "1.0",
         "10000+",
         "Other",
         "152.0",
         "0.0"
        ],
        [
         "37",
         "10164",
         "city_114",
         null,
         "Male",
         "Has relevent experience",
         "no_enrollment",
         "Phd",
         "STEM",
         "20.0",
         "100-500",
         "Pvt Ltd",
         "42.0",
         "1.0"
        ],
        [
         "38",
         "8612",
         "city_103",
         "0.92",
         null,
         "No relevent experience",
         "no_enrollment",
         "Graduate",
         "STEM",
         "12.0",
         null,
         null,
         "50.0",
         "0.0"
        ],
        [
         "39",
         "24659",
         "city_71",
         "0.884",
         "Male",
         "No relevent experience",
         "no_enrollment",
         null,
         null,
         "3.0",
         null,
         null,
         "106.0",
         "0.0"
        ],
        [
         "40",
         "2547",
         "city_114",
         "0.926",
         "Female",
         "Has relevent experience",
         "Full time course",
         "Masters",
         "STEM",
         "16.0",
         "1000-4999",
         "Public Sector",
         "14.0",
         "0.0"
        ],
        [
         "41",
         "13854",
         "city_104",
         "0.924",
         "Male",
         "Has relevent experience",
         "no_enrollment",
         "High School",
         null,
         "4.0",
         "10/49",
         "Pvt Ltd",
         "36.0",
         "0.0"
        ],
        [
         "42",
         "31654",
         "city_21",
         "0.624",
         null,
         "Has relevent experience",
         "no_enrollment",
         "Masters",
         "STEM",
         "6.0",
         "50-99",
         "Early Stage Startup",
         "112.0",
         "1.0"
        ],
        [
         "43",
         "13643",
         "city_64",
         "0.6659999999999999",
         null,
         "No relevent experience",
         "no_enrollment",
         "Graduate",
         "No Major",
         "9.0",
         "50-99",
         "Pvt Ltd",
         "108.0",
         "0.0"
        ],
        [
         "44",
         "5590",
         "city_21",
         "0.624",
         "Male",
         "Has relevent experience",
         "Part time course",
         "Masters",
         "STEM",
         "9.0",
         "5000-9999",
         "Pvt Ltd",
         "7.0",
         "1.0"
        ],
        [
         "45",
         "22452",
         "city_21",
         "0.624",
         "Female",
         "No relevent experience",
         "Full time course",
         "Masters",
         "STEM",
         "5.0",
         null,
         null,
         "26.0",
         "1.0"
        ],
        [
         "46",
         "9006",
         "city_21",
         null,
         "Male",
         "Has relevent experience",
         "no_enrollment",
         "Graduate",
         "STEM",
         "5.0",
         "100-500",
         "Pvt Ltd",
         "87.0",
         "1.0"
        ],
        [
         "47",
         "25987",
         "city_103",
         "0.92",
         "Other",
         "Has relevent experience",
         "no_enrollment",
         "Graduate",
         "STEM",
         "19.0",
         "10000+",
         "Public Sector",
         "52.0",
         "1.0"
        ],
        [
         "48",
         "4476",
         "city_101",
         "0.5579999999999999",
         "Male",
         "Has relevent experience",
         "no_enrollment",
         "Graduate",
         "No Major",
         "15.0",
         null,
         null,
         "20.0",
         "1.0"
        ],
        [
         "49",
         "25103",
         "city_83",
         "0.923",
         "Male",
         "Has relevent experience",
         "no_enrollment",
         "Graduate",
         "STEM",
         "11.0",
         "10/49",
         "Pvt Ltd",
         "21.0",
         "0.0"
        ]
       ],
       "shape": {
        "columns": 13,
        "rows": 19158
       }
      },
      "text/html": [
       "<div>\n",
       "<style scoped>\n",
       "    .dataframe tbody tr th:only-of-type {\n",
       "        vertical-align: middle;\n",
       "    }\n",
       "\n",
       "    .dataframe tbody tr th {\n",
       "        vertical-align: top;\n",
       "    }\n",
       "\n",
       "    .dataframe thead th {\n",
       "        text-align: right;\n",
       "    }\n",
       "</style>\n",
       "<table border=\"1\" class=\"dataframe\">\n",
       "  <thead>\n",
       "    <tr style=\"text-align: right;\">\n",
       "      <th></th>\n",
       "      <th>enrollee_id</th>\n",
       "      <th>city</th>\n",
       "      <th>city_development_index</th>\n",
       "      <th>gender</th>\n",
       "      <th>relevent_experience</th>\n",
       "      <th>enrolled_university</th>\n",
       "      <th>education_level</th>\n",
       "      <th>major_discipline</th>\n",
       "      <th>experience</th>\n",
       "      <th>company_size</th>\n",
       "      <th>company_type</th>\n",
       "      <th>training_hours</th>\n",
       "      <th>target</th>\n",
       "    </tr>\n",
       "  </thead>\n",
       "  <tbody>\n",
       "    <tr>\n",
       "      <th>0</th>\n",
       "      <td>8949</td>\n",
       "      <td>city_103</td>\n",
       "      <td>0.920</td>\n",
       "      <td>Male</td>\n",
       "      <td>Has relevent experience</td>\n",
       "      <td>no_enrollment</td>\n",
       "      <td>Graduate</td>\n",
       "      <td>STEM</td>\n",
       "      <td>20.0</td>\n",
       "      <td>NaN</td>\n",
       "      <td>NaN</td>\n",
       "      <td>36.0</td>\n",
       "      <td>1.0</td>\n",
       "    </tr>\n",
       "    <tr>\n",
       "      <th>1</th>\n",
       "      <td>29725</td>\n",
       "      <td>city_40</td>\n",
       "      <td>0.776</td>\n",
       "      <td>Male</td>\n",
       "      <td>No relevent experience</td>\n",
       "      <td>no_enrollment</td>\n",
       "      <td>Graduate</td>\n",
       "      <td>STEM</td>\n",
       "      <td>15.0</td>\n",
       "      <td>50-99</td>\n",
       "      <td>Pvt Ltd</td>\n",
       "      <td>47.0</td>\n",
       "      <td>0.0</td>\n",
       "    </tr>\n",
       "    <tr>\n",
       "      <th>2</th>\n",
       "      <td>11561</td>\n",
       "      <td>city_21</td>\n",
       "      <td>0.624</td>\n",
       "      <td>NaN</td>\n",
       "      <td>No relevent experience</td>\n",
       "      <td>Full time course</td>\n",
       "      <td>Graduate</td>\n",
       "      <td>STEM</td>\n",
       "      <td>5.0</td>\n",
       "      <td>NaN</td>\n",
       "      <td>NaN</td>\n",
       "      <td>83.0</td>\n",
       "      <td>0.0</td>\n",
       "    </tr>\n",
       "    <tr>\n",
       "      <th>3</th>\n",
       "      <td>33241</td>\n",
       "      <td>city_115</td>\n",
       "      <td>0.789</td>\n",
       "      <td>NaN</td>\n",
       "      <td>No relevent experience</td>\n",
       "      <td>NaN</td>\n",
       "      <td>Graduate</td>\n",
       "      <td>Business Degree</td>\n",
       "      <td>0.0</td>\n",
       "      <td>NaN</td>\n",
       "      <td>Pvt Ltd</td>\n",
       "      <td>52.0</td>\n",
       "      <td>1.0</td>\n",
       "    </tr>\n",
       "    <tr>\n",
       "      <th>4</th>\n",
       "      <td>666</td>\n",
       "      <td>city_162</td>\n",
       "      <td>0.767</td>\n",
       "      <td>Male</td>\n",
       "      <td>Has relevent experience</td>\n",
       "      <td>no_enrollment</td>\n",
       "      <td>Masters</td>\n",
       "      <td>STEM</td>\n",
       "      <td>20.0</td>\n",
       "      <td>50-99</td>\n",
       "      <td>Funded Startup</td>\n",
       "      <td>8.0</td>\n",
       "      <td>0.0</td>\n",
       "    </tr>\n",
       "    <tr>\n",
       "      <th>...</th>\n",
       "      <td>...</td>\n",
       "      <td>...</td>\n",
       "      <td>...</td>\n",
       "      <td>...</td>\n",
       "      <td>...</td>\n",
       "      <td>...</td>\n",
       "      <td>...</td>\n",
       "      <td>...</td>\n",
       "      <td>...</td>\n",
       "      <td>...</td>\n",
       "      <td>...</td>\n",
       "      <td>...</td>\n",
       "      <td>...</td>\n",
       "    </tr>\n",
       "    <tr>\n",
       "      <th>19153</th>\n",
       "      <td>7386</td>\n",
       "      <td>city_173</td>\n",
       "      <td>0.878</td>\n",
       "      <td>Male</td>\n",
       "      <td>No relevent experience</td>\n",
       "      <td>no_enrollment</td>\n",
       "      <td>Graduate</td>\n",
       "      <td>Humanities</td>\n",
       "      <td>14.0</td>\n",
       "      <td>NaN</td>\n",
       "      <td>NaN</td>\n",
       "      <td>42.0</td>\n",
       "      <td>1.0</td>\n",
       "    </tr>\n",
       "    <tr>\n",
       "      <th>19154</th>\n",
       "      <td>31398</td>\n",
       "      <td>city_103</td>\n",
       "      <td>0.920</td>\n",
       "      <td>Male</td>\n",
       "      <td>Has relevent experience</td>\n",
       "      <td>no_enrollment</td>\n",
       "      <td>Graduate</td>\n",
       "      <td>STEM</td>\n",
       "      <td>14.0</td>\n",
       "      <td>NaN</td>\n",
       "      <td>NaN</td>\n",
       "      <td>52.0</td>\n",
       "      <td>1.0</td>\n",
       "    </tr>\n",
       "    <tr>\n",
       "      <th>19155</th>\n",
       "      <td>24576</td>\n",
       "      <td>city_103</td>\n",
       "      <td>0.920</td>\n",
       "      <td>Male</td>\n",
       "      <td>Has relevent experience</td>\n",
       "      <td>no_enrollment</td>\n",
       "      <td>Graduate</td>\n",
       "      <td>STEM</td>\n",
       "      <td>20.0</td>\n",
       "      <td>50-99</td>\n",
       "      <td>Pvt Ltd</td>\n",
       "      <td>44.0</td>\n",
       "      <td>0.0</td>\n",
       "    </tr>\n",
       "    <tr>\n",
       "      <th>19156</th>\n",
       "      <td>5756</td>\n",
       "      <td>city_65</td>\n",
       "      <td>0.802</td>\n",
       "      <td>Male</td>\n",
       "      <td>Has relevent experience</td>\n",
       "      <td>no_enrollment</td>\n",
       "      <td>High School</td>\n",
       "      <td>NaN</td>\n",
       "      <td>0.0</td>\n",
       "      <td>500-999</td>\n",
       "      <td>Pvt Ltd</td>\n",
       "      <td>97.0</td>\n",
       "      <td>0.0</td>\n",
       "    </tr>\n",
       "    <tr>\n",
       "      <th>19157</th>\n",
       "      <td>23834</td>\n",
       "      <td>city_67</td>\n",
       "      <td>0.855</td>\n",
       "      <td>NaN</td>\n",
       "      <td>No relevent experience</td>\n",
       "      <td>no_enrollment</td>\n",
       "      <td>Primary School</td>\n",
       "      <td>NaN</td>\n",
       "      <td>2.0</td>\n",
       "      <td>NaN</td>\n",
       "      <td>NaN</td>\n",
       "      <td>127.0</td>\n",
       "      <td>0.0</td>\n",
       "    </tr>\n",
       "  </tbody>\n",
       "</table>\n",
       "<p>19158 rows × 13 columns</p>\n",
       "</div>"
      ],
      "text/plain": [
       "       enrollee_id      city  city_development_index gender  \\\n",
       "0             8949  city_103                   0.920   Male   \n",
       "1            29725   city_40                   0.776   Male   \n",
       "2            11561   city_21                   0.624    NaN   \n",
       "3            33241  city_115                   0.789    NaN   \n",
       "4              666  city_162                   0.767   Male   \n",
       "...            ...       ...                     ...    ...   \n",
       "19153         7386  city_173                   0.878   Male   \n",
       "19154        31398  city_103                   0.920   Male   \n",
       "19155        24576  city_103                   0.920   Male   \n",
       "19156         5756   city_65                   0.802   Male   \n",
       "19157        23834   city_67                   0.855    NaN   \n",
       "\n",
       "           relevent_experience enrolled_university education_level  \\\n",
       "0      Has relevent experience       no_enrollment        Graduate   \n",
       "1       No relevent experience       no_enrollment        Graduate   \n",
       "2       No relevent experience    Full time course        Graduate   \n",
       "3       No relevent experience                 NaN        Graduate   \n",
       "4      Has relevent experience       no_enrollment         Masters   \n",
       "...                        ...                 ...             ...   \n",
       "19153   No relevent experience       no_enrollment        Graduate   \n",
       "19154  Has relevent experience       no_enrollment        Graduate   \n",
       "19155  Has relevent experience       no_enrollment        Graduate   \n",
       "19156  Has relevent experience       no_enrollment     High School   \n",
       "19157   No relevent experience       no_enrollment  Primary School   \n",
       "\n",
       "      major_discipline  experience company_size    company_type  \\\n",
       "0                 STEM        20.0          NaN             NaN   \n",
       "1                 STEM        15.0        50-99         Pvt Ltd   \n",
       "2                 STEM         5.0          NaN             NaN   \n",
       "3      Business Degree         0.0          NaN         Pvt Ltd   \n",
       "4                 STEM        20.0        50-99  Funded Startup   \n",
       "...                ...         ...          ...             ...   \n",
       "19153       Humanities        14.0          NaN             NaN   \n",
       "19154             STEM        14.0          NaN             NaN   \n",
       "19155             STEM        20.0        50-99         Pvt Ltd   \n",
       "19156              NaN         0.0      500-999         Pvt Ltd   \n",
       "19157              NaN         2.0          NaN             NaN   \n",
       "\n",
       "       training_hours  target  \n",
       "0                36.0     1.0  \n",
       "1                47.0     0.0  \n",
       "2                83.0     0.0  \n",
       "3                52.0     1.0  \n",
       "4                 8.0     0.0  \n",
       "...               ...     ...  \n",
       "19153            42.0     1.0  \n",
       "19154            52.0     1.0  \n",
       "19155            44.0     0.0  \n",
       "19156            97.0     0.0  \n",
       "19157           127.0     0.0  \n",
       "\n",
       "[19158 rows x 13 columns]"
      ]
     },
     "execution_count": 2,
     "metadata": {},
     "output_type": "execute_result"
    }
   ],
   "source": [
    "#Load dataset\n",
    "df_job = pd.read_csv(\"./data/data_science_job.csv\")\n",
    "df_job"
   ]
  },
  {
   "cell_type": "code",
   "execution_count": 3,
   "metadata": {
    "scrolled": true
   },
   "outputs": [
    {
     "name": "stdout",
     "output_type": "stream",
     "text": [
      "<class 'pandas.core.frame.DataFrame'>\n",
      "RangeIndex: 19158 entries, 0 to 19157\n",
      "Data columns (total 13 columns):\n",
      " #   Column                  Non-Null Count  Dtype  \n",
      "---  ------                  --------------  -----  \n",
      " 0   enrollee_id             19158 non-null  int64  \n",
      " 1   city                    19158 non-null  object \n",
      " 2   city_development_index  18679 non-null  float64\n",
      " 3   gender                  14650 non-null  object \n",
      " 4   relevent_experience     19158 non-null  object \n",
      " 5   enrolled_university     18772 non-null  object \n",
      " 6   education_level         18698 non-null  object \n",
      " 7   major_discipline        16345 non-null  object \n",
      " 8   experience              19093 non-null  float64\n",
      " 9   company_size            13220 non-null  object \n",
      " 10  company_type            13018 non-null  object \n",
      " 11  training_hours          18392 non-null  float64\n",
      " 12  target                  19158 non-null  float64\n",
      "dtypes: float64(4), int64(1), object(8)\n",
      "memory usage: 1.9+ MB\n",
      "None\n"
     ]
    }
   ],
   "source": [
    "# Display basic info\n",
    "print(df_job.info())"
   ]
  },
  {
   "cell_type": "markdown",
   "metadata": {},
   "source": [
    "## Dealing with missing values"
   ]
  },
  {
   "cell_type": "code",
   "execution_count": 4,
   "metadata": {},
   "outputs": [
    {
     "name": "stdout",
     "output_type": "stream",
     "text": [
      "Missing Values:\n",
      " city_development_index     479\n",
      "gender                    4508\n",
      "enrolled_university        386\n",
      "education_level            460\n",
      "major_discipline          2813\n",
      "experience                  65\n",
      "company_size              5938\n",
      "company_type              6140\n",
      "training_hours             766\n",
      "dtype: int64\n"
     ]
    }
   ],
   "source": [
    "# Check for missing values in whole dataset\n",
    "missing_values = df_job.isnull().sum()\n",
    "print(\"Missing Values:\\n\", missing_values[missing_values > 0])"
   ]
  },
  {
   "cell_type": "markdown",
   "metadata": {},
   "source": [
    "###### Gender:"
   ]
  },
  {
   "cell_type": "code",
   "execution_count": 5,
   "metadata": {},
   "outputs": [],
   "source": [
    "# Replace missing values in 'gender' with 'Not specified'\n",
    "df_job['gender'] = df_job['gender'].fillna('Not specified')"
   ]
  },
  {
   "cell_type": "markdown",
   "metadata": {},
   "source": [
    "###### Company size:"
   ]
  },
  {
   "cell_type": "code",
   "execution_count": 6,
   "metadata": {},
   "outputs": [
    {
     "data": {
      "text/plain": [
       "array([nan, '50-99', '<10', '10000+', '5000-9999', '1000-4999', '10/49',\n",
       "       '100-500', '500-999'], dtype=object)"
      ]
     },
     "execution_count": 6,
     "metadata": {},
     "output_type": "execute_result"
    }
   ],
   "source": [
    "# Number of unique company sizes\n",
    "df_job.company_size.unique()"
   ]
  },
  {
   "cell_type": "code",
   "execution_count": 7,
   "metadata": {},
   "outputs": [
    {
     "data": {
      "image/png": "[encoded data removed]",
      "text/plain": [
       "<Figure size 500x300 with 1 Axes>"
      ]
     },
     "metadata": {},
     "output_type": "display_data"
    }
   ],
   "source": [
    "# Define the correct order for company sizes, including NaN\n",
    "company_size_order = ['<10', '10/49', '50-99', '100-500', '500-999', '1000-4999', '5000-9999', '10000+']\n",
    "\n",
    "# Count occurrences of each company size, including NaN\n",
    "df_job['company_size'] = df_job['company_size'].astype(str)  # Convert NaN to string for counting\n",
    "company_size_counts = df_job['company_size'].value_counts()\n",
    "\n",
    "# Reindex based on the predefined order\n",
    "df_ordered = pd.Series(company_size_counts, index=company_size_order).fillna(0)\n",
    "\n",
    "# Plot the distribution\n",
    "plt.figure(figsize=(5,3))\n",
    "sns.barplot(x=df_ordered.index, y=df_ordered.values)\n",
    "plt.xlabel(\"Company Size\")\n",
    "plt.ylabel(\"Count\")\n",
    "plt.title(\"Distribution of Company Size\")\n",
    "plt.xticks(rotation=45)\n",
    "plt.show()"
   ]
  },
  {
   "cell_type": "code",
   "execution_count": 8,
   "metadata": {},
   "outputs": [
    {
     "data": {
      "image/png": "[encoded data removed]",
      "text/plain": [
       "<Figure size 500x300 with 1 Axes>"
      ]
     },
     "metadata": {},
     "output_type": "display_data"
    }
   ],
   "source": [
    "# Define mapping for company size categories\n",
    "size_mapping = {\n",
    "    '<10': 'S',\n",
    "    '10/49': 'S',\n",
    "    '50-99': 'S',\n",
    "    '100-500': 'M',\n",
    "    '500-999': 'M',\n",
    "    '1000-4999': 'M',\n",
    "    '5000-9999': 'L',\n",
    "    '10000+': 'L',\n",
    "    'NaN': 'Unknown'\n",
    "}\n",
    "\n",
    "# Convert company_size to categories\n",
    "df_job['company_size'] = df_job['company_size'].astype(str).map(size_mapping)\n",
    "\n",
    "# Count occurrences of each category\n",
    "company_size_counts = df_job['company_size'].value_counts()\n",
    "\n",
    "# Plot the distribution\n",
    "plt.figure(figsize=(5,3))\n",
    "sns.barplot(x=company_size_counts.index, y=company_size_counts.values)\n",
    "plt.xlabel(\"Company Size Category\")\n",
    "plt.ylabel(\"Count\")\n",
    "plt.title(\"Distribution of Company Size Categories (S, M, L)\")\n",
    "plt.xticks(rotation=0)\n",
    "plt.show()"
   ]
  },
  {
   "cell_type": "code",
   "execution_count": 9,
   "metadata": {},
   "outputs": [
    {
     "name": "stdout",
     "output_type": "stream",
     "text": [
      "Number of rows with NaN in company_size: 5938\n",
      "Percentage of NaN values compared to total rows: 30.99%\n"
     ]
    }
   ],
   "source": [
    "# Count NaN values in company_size column\n",
    "nan_count = df_job['company_size'].isna().sum()\n",
    "total_rows = len(df_job)\n",
    "nan_percentage = (nan_count / total_rows) * 100\n",
    "\n",
    "print(f\"Number of rows with NaN in company_size: {nan_count}\")\n",
    "print(f\"Percentage of NaN values compared to total rows: {nan_percentage:.2f}%\")"
   ]
  },
  {
   "cell_type": "code",
   "execution_count": 10,
   "metadata": {},
   "outputs": [
    {
     "name": "stdout",
     "output_type": "stream",
     "text": [
      "Total rows: 19158\n",
      "Rows with at least one NaN: 8553\n",
      "Percentage of rows containing NaN values: 44.64%\n"
     ]
    }
   ],
   "source": [
    "# Count total rows\n",
    "total_rows = len(df_job)\n",
    "\n",
    "# Count rows that contain at least one NaN value\n",
    "rows_with_nan = df_job.isna().any(axis=1).sum()\n",
    "\n",
    "# Calculate percentage\n",
    "nan_percentage = (rows_with_nan / total_rows) * 100\n",
    "\n",
    "# Print results\n",
    "print(f\"Total rows: {total_rows}\")\n",
    "print(f\"Rows with at least one NaN: {rows_with_nan}\")\n",
    "print(f\"Percentage of rows containing NaN values: {nan_percentage:.2f}%\")"
   ]
  },
  {
   "cell_type": "markdown",
   "metadata": {},
   "source": [
    "###### city_development_index:"
   ]
  },
  {
   "cell_type": "code",
   "execution_count": 11,
   "metadata": {},
   "outputs": [
    {
     "name": "stdout",
     "output_type": "stream",
     "text": [
      "Number of rows with missing city_development_index after mapping: 0\n"
     ]
    }
   ],
   "source": [
    "# Create a mapping of city -> city_development_index using known values\n",
    "city_dev_index_mapping = df_job.groupby(\"city\")[\"city_development_index\"].first().to_dict()\n",
    "\n",
    "# Fill missing city_development_index using the mapping\n",
    "df_job[\"city_development_index\"] = df_job[\"city\"].map(city_dev_index_mapping)\n",
    "\n",
    "# Verify if there are still missing values in city_development_index\n",
    "missing_city_dev_index = df_job[\"city_development_index\"].isna().sum()\n",
    "\n",
    "# Display the number of remaining missing values\n",
    "print(f\"Number of rows with missing city_development_index after mapping: {missing_city_dev_index}\")"
   ]
  },
  {
   "cell_type": "code",
   "execution_count": 12,
   "metadata": {},
   "outputs": [
    {
     "data": {
      "text/plain": [
       "enrollee_id                  0\n",
       "city                         0\n",
       "city_development_index       0\n",
       "gender                       0\n",
       "relevent_experience          0\n",
       "enrolled_university        386\n",
       "education_level            460\n",
       "major_discipline          2813\n",
       "experience                  65\n",
       "company_size              5938\n",
       "company_type              6140\n",
       "training_hours             766\n",
       "target                       0\n",
       "dtype: int64"
      ]
     },
     "execution_count": 12,
     "metadata": {},
     "output_type": "execute_result"
    }
   ],
   "source": [
    "df_job.isna().sum()"
   ]
  },
  {
   "cell_type": "markdown",
   "metadata": {},
   "source": [
    "##### major_discipline:"
   ]
  },
  {
   "cell_type": "code",
   "execution_count": 51,
   "metadata": {},
   "outputs": [
    {
     "data": {
      "text/plain": [
       "array(['STEM', 'Business Degree', nan, 'Arts', 'Humanities', 'No Major',\n",
       "       'Other'], dtype=object)"
      ]
     },
     "execution_count": 51,
     "metadata": {},
     "output_type": "execute_result"
    }
   ],
   "source": [
    "df_job.major_discipline.unique()"
   ]
  },
  {
   "cell_type": "code",
   "execution_count": 54,
   "metadata": {
    "scrolled": true
   },
   "outputs": [
    {
     "data": {
      "image/png": "[encoded data removed]",
      "text/plain": [
       "<Figure size 1000x500 with 1 Axes>"
      ]
     },
     "metadata": {},
     "output_type": "display_data"
    }
   ],
   "source": [
    "# Drop Nan Rows of major_discipline\n",
    "df_job_major = df_job.dropna(subset=['major_discipline'])\n",
    "# plot the distribution of major_discipline\n",
    "plt.figure(figsize=(10,5))\n",
    "sns.countplot(data=df_job_major, y ='major_discipline', order=df_job_major['major_discipline'].value_counts().index)\n",
    "plt.xticks(rotation=45)\n",
    "plt.title('Distribution of Major Discipline')\n",
    "plt.show()"
   ]
  },
  {
   "cell_type": "markdown",
   "metadata": {},
   "source": [
    "##### training_hours:"
   ]
  },
  {
   "cell_type": "code",
   "execution_count": 15,
   "metadata": {},
   "outputs": [
    {
     "name": "stderr",
     "output_type": "stream",
     "text": [
      "/Users/user/anaconda3/lib/python3.11/site-packages/seaborn/_oldcore.py:1119: FutureWarning: use_inf_as_na option is deprecated and will be removed in a future version. Convert inf values to NaN before operating instead.\n",
      "  with pd.option_context('mode.use_inf_as_na', True):\n"
     ]
    },
    {
     "data": {
      "image/png": "[encoded data removed]",
      "text/plain": [
       "<Figure size 1000x500 with 1 Axes>"
      ]
     },
     "metadata": {},
     "output_type": "display_data"
    }
   ],
   "source": [
    "# Drop NAN rows of training_hours\n",
    "df_job_training = df_job.dropna(subset=['training_hours'])\n",
    "# plot the distribution of training_hours\n",
    "plt.figure(figsize=(10,5))\n",
    "sns.histplot(data=df_job_training, x='training_hours', bins=30)\n",
    "plt.title('Distribution of Training Hours')\n",
    "plt.show()"
   ]
  },
  {
   "cell_type": "markdown",
   "metadata": {},
   "source": [
    "##### education_level:"
   ]
  },
  {
   "cell_type": "code",
   "execution_count": 16,
   "metadata": {},
   "outputs": [
    {
     "data": {
      "image/png": "[encoded data removed]",
      "text/plain": [
       "<Figure size 1000x500 with 1 Axes>"
      ]
     },
     "metadata": {},
     "output_type": "display_data"
    }
   ],
   "source": [
    "# Drop NAN rows of education_level\n",
    "df_job_education = df_job.dropna(subset=['education_level'])\n",
    "# plot the distribution of education_level\n",
    "plt.figure(figsize=(10,5))\n",
    "sns.countplot(data=df_job_education, y='education_level', order=df_job_education['education_level'].value_counts().index)\n",
    "plt.xticks(rotation=45)\n",
    "plt.title('Distribution of Education Level')\n",
    "plt.show()"
   ]
  },
  {
   "cell_type": "code",
   "execution_count": 17,
   "metadata": {},
   "outputs": [
    {
     "name": "stdout",
     "output_type": "stream",
     "text": [
      "The number of primary school graduate :  308\n",
      "The number of Nan values of the major discipline of primary students :  308\n"
     ]
    }
   ],
   "source": [
    "# Check the major disipline of  primary school graduates\n",
    "df_job_primary = df_job[df_job['education_level'] == 'Primary School']\n",
    "print(\"The number of primary school graduate : \",df_job_primary['major_discipline'].size)\n",
    "print(\"The number of Nan values of the major discipline of primary students : \",df_job_primary['major_discipline'].isna().sum())"
   ]
  },
  {
   "cell_type": "markdown",
   "metadata": {},
   "source": [
    " Since Primary school is not really relevant for our analyis and we dont have many data points for it we can drop it.\n",
    " The fact that the major discipline is missing for primary school graduates is also not relevant for our analysis."
   ]
  },
  {
   "cell_type": "markdown",
   "metadata": {},
   "source": [
    "### City Development Index VS Company Type"
   ]
  },
  {
   "cell_type": "code",
   "execution_count": 18,
   "metadata": {},
   "outputs": [
    {
     "data": {
      "image/png": "[encoded data removed]",
      "text/plain": [
       "<Figure size 1000x500 with 1 Axes>"
      ]
     },
     "metadata": {},
     "output_type": "display_data"
    }
   ],
   "source": [
    "# Visualize the distribution of city_development_index for each company type\n",
    "plt.figure(figsize=(10,5))\n",
    "sns.boxplot(data=df_job, x='company_type', y='city_development_index')  \n",
    "plt.xticks(rotation=45)\n",
    "plt.title('City Development Index for each Company Type')\n",
    "plt.show()\n"
   ]
  },
  {
   "cell_type": "markdown",
   "metadata": {},
   "source": [
    "### Experience VS Company size"
   ]
  },
  {
   "cell_type": "code",
   "execution_count": 19,
   "metadata": {
    "scrolled": true
   },
   "outputs": [
    {
     "data": {
      "image/png": "[encoded data removed]",
      "text/plain": [
       "<Figure size 1000x500 with 1 Axes>"
      ]
     },
     "metadata": {},
     "output_type": "display_data"
    }
   ],
   "source": [
    "# Plot the number of relevent, none relevant for each company size\n",
    "plt.figure(figsize=(10,5))\n",
    "sns.countplot(data=df_job, x='company_size', hue='relevent_experience')\n",
    "plt.title('Relevent Experience for each Company Size')\n",
    "plt.show()"
   ]
  },
  {
   "cell_type": "markdown",
   "metadata": {},
   "source": [
    "### Job seeking VS Education Level"
   ]
  },
  {
   "cell_type": "code",
   "execution_count": 47,
   "metadata": {},
   "outputs": [
    {
     "data": {
      "image/png": "[encoded data removed]",
      "text/plain": [
       "<Figure size 800x500 with 1 Axes>"
      ]
     },
     "metadata": {},
     "output_type": "display_data"
    }
   ],
   "source": [
    "# Group by 'education_level' and calculate the mean target value\n",
    "grouped_education = df_job.groupby(\"education_level\")[\"target\"].count().reset_index()\n",
    "\n",
    "# Plot\n",
    "plt.figure(figsize=(8, 5))\n",
    "plt.bar(grouped_education[\"education_level\"], grouped_education[\"target\"], color='pink')\n",
    "plt.xlabel(\"Education Level\")\n",
    "plt.ylabel(\"Number of job seekers\")\n",
    "plt.title(\"Target vs Education Level\")\n",
    "plt.xticks(rotation=45)\n",
    "plt.tight_layout()\n",
    "plt.show()\n"
   ]
  }
 ],
 "metadata": {
  "kernelspec": {
   "display_name": "adaexam",
   "language": "python",
   "name": "python3"
  },
  "language_info": {
   "codemirror_mode": {
    "name": "ipython",
    "version": 3
   },
   "file_extension": ".py",
   "mimetype": "text/x-python",
   "name": "python",
   "nbconvert_exporter": "python",
   "pygments_lexer": "ipython3",
   "version": "3.9.7"
  }
 },
 "nbformat": 4,
 "nbformat_minor": 2
}
